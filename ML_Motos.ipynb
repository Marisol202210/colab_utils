{
  "nbformat": 4,
  "nbformat_minor": 0,
  "metadata": {
    "colab": {
      "provenance": [],
      "authorship_tag": "ABX9TyMG4WhEIXJeurgpvtz1ZzsI",
      "include_colab_link": true
    },
    "kernelspec": {
      "name": "python3",
      "display_name": "Python 3"
    },
    "language_info": {
      "name": "python"
    }
  },
  "cells": [
    {
      "cell_type": "markdown",
      "metadata": {
        "id": "view-in-github",
        "colab_type": "text"
      },
      "source": [
        "<a href=\"https://colab.research.google.com/github/Marisol202210/colab_utils/blob/main/ML_Motos.ipynb\" target=\"_parent\"><img src=\"https://colab.research.google.com/assets/colab-badge.svg\" alt=\"Open In Colab\"/></a>"
      ]
    },
    {
      "cell_type": "code",
      "execution_count": 4,
      "metadata": {
        "colab": {
          "base_uri": "https://localhost:8080/"
        },
        "id": "MUU90Bbpv64S",
        "outputId": "117a72d4-2a3d-4c86-bb4c-f31819e45d34"
      },
      "outputs": [
        {
          "output_type": "stream",
          "name": "stdout",
          "text": [
            "Ingrese el año de fabricación de la moto: 2019\n",
            "Ingrese la marca de la moto: kawasaki\n",
            "Ingrese el modelo de la moto: gsx-r750\n",
            "Ingrese el kilometraje de la moto: 20000km\n",
            "Ingrese el estado de la moto (nuevo/usado): nuevo\n",
            "El precio predicho de la moto es: 12500.0 soles\n"
          ]
        }
      ],
      "source": [
        "import pandas as pd\n",
        "import numpy as np\n",
        "from sklearn.linear_model import LinearRegression\n",
        "from sklearn.preprocessing import OneHotEncoder\n",
        "from sklearn.compose import ColumnTransformer\n",
        "from sklearn.pipeline import Pipeline\n",
        "datos = {\n",
        "    'año de fabricacio': [2015, 2016, 2017, 2018, 2019],\n",
        "    'marca': ['honda', 'yamaha', 'suzuki', 'kawasaki', 'herley-davidson'],\n",
        "    'modelo': ['cb500x', 'yzf-r6', 'gsx-r750', 'ninja 300', 'sportster iron 883'],\n",
        "    'kilometraje': ['5000km', '10000km', '15000km', '20000km', '25000k'],\n",
        "    'estado': ['nuevo', 'usado', 'nuevo', 'usado', 'usado'],\n",
        "    'precio': [10000, 12000, 14000, 11000, 13000]\n",
        "\n",
        "}\n",
        "\n",
        "# Creamos el DataFrame\n",
        "motos_data = pd.DataFrame(datos)\n",
        "\n",
        "# Dividimos el conjunto de datos en características (X) y etiquetas (y)\n",
        "X = motos_data.drop('precio', axis=1)\n",
        "y = motos_data['precio']\n",
        "\n",
        "# Definimos las columnas que necesitan ser codificadas (ubicacion y material)\n",
        "columnas_codificar = ['marca', 'modelo', 'estado']\n",
        "\n",
        "# Creamos un transformador para codificar estas columnas\n",
        "transformador = ColumnTransformer([\n",
        "    ('onehot', OneHotEncoder(), columnas_codificar)\n",
        "])\n",
        "\n",
        "# Creamos un pipeline que primero codifica las columnas y luego aplica la regresión lineal\n",
        "pipeline = Pipeline([\n",
        "    ('transformador', transformador),\n",
        "    ('regresion', LinearRegression())\n",
        "])\n",
        "\n",
        "# Entrenamos el modelo con todos los datos\n",
        "pipeline.fit(X, y)\n",
        "\n",
        "# Solicitar al usuario que ingrese los datos de la vivienda\n",
        "año_fabricacion = int(input(\"Ingrese el año de fabricación de la moto: \"))\n",
        "marca = input(\"Ingrese la marca de la moto: \")\n",
        "modelo = input(\"Ingrese el modelo de la moto: \")\n",
        "kilometraje = input(\"Ingrese el kilometraje de la moto: \")\n",
        "estado = input(\"Ingrese el estado de la moto (nuevo/usado): \")\n",
        "\n",
        "# Crear un DataFrame con los datos ingresados por el usuario\n",
        "nueva_moto = pd.DataFrame({'año de fabricacio': [año_fabricacion],\n",
        "                           'marca': [marca],\n",
        "                           'modelo': [modelo],\n",
        "                           'kilometraje': [kilometraje],\n",
        "                           'estado': [estado]})\n",
        "# Predecir el precio de la nueva vivienda\n",
        "precio_predicho = pipeline.predict(nueva_moto)\n",
        "# Mostrar el precio predicho\n",
        "print(\"El precio predicho de la moto es:\", precio_predicho[0], \"soles\")\n"
      ]
    }
  ]
}