{
  "nbformat": 4,
  "nbformat_minor": 0,
  "metadata": {
    "colab": {
      "provenance": [],
      "authorship_tag": "ABX9TyNVwExLrqd6mpb7ZZOl71ai",
      "include_colab_link": true
    },
    "kernelspec": {
      "name": "python3",
      "display_name": "Python 3"
    },
    "language_info": {
      "name": "python"
    }
  },
  "cells": [
    {
      "cell_type": "markdown",
      "metadata": {
        "id": "view-in-github",
        "colab_type": "text"
      },
      "source": [
        "<a href=\"https://colab.research.google.com/github/Marisol202210/colab_utils/blob/main/ML_Viviendas.ipynb\" target=\"_parent\"><img src=\"https://colab.research.google.com/assets/colab-badge.svg\" alt=\"Open In Colab\"/></a>"
      ]
    },
    {
      "cell_type": "code",
      "execution_count": null,
      "metadata": {
        "id": "Al5yjQk4vddh"
      },
      "outputs": [],
      "source": [
        "import pandas as pd\n",
        "import numpy as np\n",
        "from sklearn.linear_model import LinearRegression\n",
        "from sklearn.preprocessing import OneHotEncoder\n",
        "from sklearn.compose import ColumnTransformer\n",
        "from sklearn.pipeline import Pipeline\n",
        "# Creamos un DataFrame de ejemplo con datos de precios de viviendas en Puno, Perú\n",
        "datos = {\n",
        "    'ubicacion': ['Centro', 'Periferia', 'Rural', 'Centro', 'Periferia'],\n",
        "    'num_pisos': [2, 3, 1, 2, 2],\n",
        "    'material': ['Concreto', 'Madera', 'Ladrillo', 'Concreto', 'Concreto'],\n",
        "    'precio': [120000, 150000, 80000, 130000, 140000]  # Precios en soles\n",
        "}\n",
        "\n",
        "# Creamos el DataFrame\n",
        "puno_data = pd.DataFrame(datos)\n",
        "\n",
        "# Dividimos el conjunto de datos en características (X) y etiquetas (y)\n",
        "X = puno_data.drop('precio', axis=1)\n",
        "y = puno_data['precio']\n",
        "\n",
        "# Definimos las columnas que necesitan ser codificadas (ubicacion y material)\n",
        "columnas_codificar = ['ubicacion', 'material']\n",
        "\n",
        "# Creamos un transformador para codificar estas columnas\n",
        "transformador = ColumnTransformer([\n",
        "    ('onehot', OneHotEncoder(), columnas_codificar)\n",
        "])\n",
        "\n",
        "# Creamos un pipeline que primero codifica las columnas y luego aplica la regresión lineal\n",
        "pipeline = Pipeline([\n",
        "    ('transformador', transformador),\n",
        "    ('regresion', LinearRegression())\n",
        "])\n",
        "\n",
        "# Entrenamos el modelo con todos los datos\n",
        "pipeline.fit(X, y)\n",
        "\n",
        "# Solicitar al usuario que ingrese los datos de la vivienda\n",
        "ubicacion = input(\"Ingrese la ubicación de la vivienda (Centro/Periferia/Rural): \")\n",
        "num_pisos = int(input(\"Ingrese el número de pisos de la vivienda: \"))\n",
        "material = input(\"Ingrese el material de construcción de la vivienda (Concreto/Madera/Ladrillo): \")\n",
        "\n",
        "# Crear un DataFrame con los datos ingresados por el usuario\n",
        "nueva_vivienda = pd.DataFrame({'ubicacion': [ubicacion], 'num_pisos': [num_pisos], 'material': [material]})\n",
        "\n",
        "# Predecir el precio de la nueva vivienda\n",
        "precio_predicho = pipeline.predict(nueva_vivienda)\n",
        "\n",
        "# Mostrar el precio predicho\n",
        "print(\"El precio predicho de la vivienda es:\", precio_predicho[0], \"soles\")\n"
      ]
    },
    {
      "cell_type": "code",
      "source": [],
      "metadata": {
        "id": "jD8nTKwRZipd"
      },
      "execution_count": null,
      "outputs": []
    }
  ]
}